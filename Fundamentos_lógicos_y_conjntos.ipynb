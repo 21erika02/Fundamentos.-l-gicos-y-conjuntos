{
  "nbformat": 4,
  "nbformat_minor": 0,
  "metadata": {
    "colab": {
      "provenance": []
    },
    "kernelspec": {
      "name": "python3",
      "display_name": "Python 3"
    },
    "language_info": {
      "name": "python"
    }
  },
  "cells": [
    {
      "cell_type": "code",
      "execution_count": null,
      "metadata": {
        "id": "9YKCKA3j0QIv"
      },
      "outputs": [],
      "source": []
    },
    {
      "cell_type": "markdown",
      "source": [],
      "metadata": {
        "id": "gEn6nRQLfaVK"
      }
    },
    {
      "cell_type": "code",
      "source": [],
      "metadata": {
        "id": "yeMymnyOfa77"
      },
      "execution_count": null,
      "outputs": []
    },
    {
      "cell_type": "markdown",
      "source": [
        "Logica proporcional y teoria de conjuntos.\n",
        "Conectores logicos.\n"
      ],
      "metadata": {
        "id": "LnfmuP9B1ReS"
      }
    },
    {
      "cell_type": "markdown",
      "source": [
        "I. Lógica Proposicional y teoria de conjuntos.\n",
        "A. Conectores lógicos básicos\n",
        "Conjunción (∧): \"y\"\n",
        "Disyunción (∨): \"o\"\n",
        "Negación (¬): \"no\"\n",
        "Implicación (→): \"si... entonces\"\n",
        "Doble implicación (↔): \"si y solo si\"\n",
        "B. Tablas de verdad\n",
        "Ejemplo de tabla de verdad para P → Q:\n",
        "\n",
        "P\tQ\tP → Q\n",
        "V\tV\tV\n",
        "V\tF\tF\n",
        "F\tV\tV\n",
        "F\tF\tV\n",
        "\n",
        "P  ʌ Q\n",
        "V V V\n",
        "V F F\n",
        "F F V\n",
        "F F F\n",
        "\n",
        "V-> Q\n",
        "V V V\n",
        "V F F\n",
        "F V V\n",
        "F V F\n",
        "\n",
        "P<-> Q\n",
        "V V V\n",
        "V F F\n",
        "F F V\n",
        "F V F\n",
        "\n",
        "La implicación solo es falsa cuando el antecedente es verdadero y el consecuente es falso.\n",
        "\n",
        "C. Cuantificadores lógicos\n",
        "Existencial (∃): \"Existe\"\n",
        "Universal (∀): \"Para todo\"\n",
        "-Moda es mejor que el real madrid.\n",
        "-Un sanduche es mejor que moda.\n",
        "-Un sanduche es mejor que R.M.\n",
        "Ejemplos:\n",
        "∃x ∀y: \"Existe un x para todo y\"\n",
        "∀y ∃x: \"Para todo y existe un x\"\n",
        "Importante: El orden de los cuantificadores afecta el significado lógico.\n",
        "\n",
        "Analogia:\"Todos tienen una historia, ninguna como la mía.\"\n",
        "\n",
        "∃x ∀y: existe una historia para todas las personas (incoorecto)\n",
        "∀y ∃x: Para toda persona existe una historia (correcto)\n",
        ". Negación de cuantificadores\n",
        "Negación de ∃x P(x): ∀x ¬P(x)\n",
        "Negación de ∀x P(x): ∃x ¬P(x)\n",
        "II. Conjuntos Numéricos\n",
        "A. Conjuntos numéricos básicos y notación\n",
        "Números naturales (ℕ): {0, 1, 2, 3, ...}\n",
        "Nota: Existe ambigüedad sobre la inclusión del 0 (varía según el país)\n",
        "Enteros (ℤ): Incluye naturales y negativos\n",
        "Números racionales (ℚ): Forma n/m, donde n ∈ ℤ y m ∈ ℕ\n",
        "Números reales (ℝ): Representados en la recta real\n",
        "B. Relación de contención\n",
        "ℕ ⊂ ℤ ⊂ ℚ ⊂ ℝ\n",
        "\n",
        "C. Notación matemática\n",
        "Doble barra (ejemplo: ℕ): Indica un conjunto bien definido\n",
        "ℕ: Naturales\n",
        "ℤ: Enteros\n",
        "ℚ: Racionales (Q por \"cociente\")\n",
        "ℝ: Reales\n",
        " Ejemplo\n",
        " print(\"Conjunto de números naturales: ℕ\")\n",
        "print(\"Conjunto de números enteros: ℤ\")\n",
        "print(\"Conjunto de números racionales: ℚ\")\n",
        "print(\"Conjunto de números reales: ℝ\")"
      ],
      "metadata": {
        "id": "4EVyO-OGdye3"
      }
    },
    {
      "cell_type": "markdown",
      "source": [],
      "metadata": {
        "id": "P5Q71bI7q86A"
      }
    },
    {
      "cell_type": "code",
      "source": [],
      "metadata": {
        "id": "_5nkme17q9_m"
      },
      "execution_count": null,
      "outputs": []
    }
  ]
}